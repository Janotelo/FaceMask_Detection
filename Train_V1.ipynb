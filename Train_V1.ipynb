{
 "cells": [
  {
   "cell_type": "code",
   "execution_count": null,
   "id": "557dbcd7-ca22-46b6-b294-fe14656b500b",
   "metadata": {},
   "outputs": [],
   "source": [
    "import cv2\n",
    "import matplotlib.pyplot as plt\n",
    "import numpy as np"
   ]
  },
  {
   "cell_type": "code",
   "execution_count": null,
   "id": "dda95f42-1a66-41c2-a8cb-4bed56cc5734",
   "metadata": {},
   "outputs": [],
   "source": [
    "haar_data = cv2.CascadeClassifier('haar_cascade/haarcascade_frontalface_default.xml')"
   ]
  },
  {
   "cell_type": "markdown",
   "id": "42bf8dbe-a4ef-4e87-b549-955e18d1a596",
   "metadata": {},
   "source": [
    "# Getting Dataset for people without Facemask"
   ]
  },
  {
   "cell_type": "code",
   "execution_count": null,
   "id": "674acd57-872a-478e-9838-43cb5963ccb1",
   "metadata": {
    "tags": []
   },
   "outputs": [],
   "source": [
    "capture = cv2.VideoCapture(0)\n",
    "data = []\n",
    "while True:\n",
    "    flag, img = capture.read()\n",
    "    img = cv2.flip(img,1)\n",
    "    if flag:\n",
    "        faces = haar_data.detectMultiScale(img)\n",
    "        for x,y,w,h in faces:\n",
    "            cv2.rectangle(img, (x,y), (x+w, y+h), (255,0,255), 4)\n",
    "            face = img[y:y+h, x:x+w, :]\n",
    "            face = cv2.resize(face, (50,50))\n",
    "            print(len(data))\n",
    "            if len(data) < 400:\n",
    "                data.append(face)\n",
    "            cv2.imshow('result', img) # Parameters (<name of the window that will open>, <variable_name>)\n",
    "        if cv2.waitKey(2) == 27 or len(data) >= 200: # 27 is ASCII value of Escape\n",
    "            break\n",
    "capture.release()\n",
    "cv2.destroyAllWindows()"
   ]
  },
  {
   "cell_type": "code",
   "execution_count": null,
   "id": "d9e3248b-5151-493e-8024-bf24558c5639",
   "metadata": {
    "tags": []
   },
   "outputs": [],
   "source": [
    "np.save('without_mask.npy', data)"
   ]
  },
  {
   "cell_type": "markdown",
   "id": "f66c1141-63c0-4f1e-8a49-1653158e57fe",
   "metadata": {},
   "source": [
    "# Getting Dataset for people with Facemask"
   ]
  },
  {
   "cell_type": "code",
   "execution_count": null,
   "id": "01b0de41-e897-4e64-9a58-d50e47cd2253",
   "metadata": {
    "tags": []
   },
   "outputs": [],
   "source": [
    "capture = cv2.VideoCapture(0)\n",
    "data = []\n",
    "while True:\n",
    "    flag, img = capture.read()\n",
    "    img = cv2.flip(img,1)\n",
    "    if flag:\n",
    "        faces = haar_data.detectMultiScale(img)\n",
    "        for x,y,w,h in faces:\n",
    "            cv2.rectangle(img, (x,y), (x+w, y+h), (255,0,255), 4)\n",
    "            face = img[y:y+h, x:x+w, :]\n",
    "            face = cv2.resize(face, (50,50))\n",
    "            print(len(data))\n",
    "            if len(data) < 400:\n",
    "                data.append(face)\n",
    "            cv2.imshow('result', img) # Parameters (<name of the window that will open>, <variable_name>)\n",
    "        if cv2.waitKey(2) == 27 or len(data) >= 200: # 27 is ASCII value of Escape\n",
    "            break\n",
    "capture.release()\n",
    "cv2.destroyAllWindows()"
   ]
  },
  {
   "cell_type": "code",
   "execution_count": null,
   "id": "ecc9ba10-da0f-476c-858b-bda5bcf1c863",
   "metadata": {},
   "outputs": [],
   "source": [
    "np.save('with_mask.npy', data)"
   ]
  }
 ],
 "metadata": {
  "kernelspec": {
   "display_name": "Python 3",
   "language": "python",
   "name": "python3"
  },
  "language_info": {
   "codemirror_mode": {
    "name": "ipython",
    "version": 3
   },
   "file_extension": ".py",
   "mimetype": "text/x-python",
   "name": "python",
   "nbconvert_exporter": "python",
   "pygments_lexer": "ipython3",
   "version": "3.8.8"
  }
 },
 "nbformat": 4,
 "nbformat_minor": 5
}
